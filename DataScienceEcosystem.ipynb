{
 "cells": [
  {
   "cell_type": "markdown",
   "id": "768bcfee",
   "metadata": {},
   "source": [
    "# Data Science Tools and Ecosystem"
   ]
  },
  {
   "cell_type": "markdown",
   "id": "d45464e9",
   "metadata": {},
   "source": [
    "In this notebook, Data Science Tools and Ecosystem are summarized."
   ]
  },
  {
   "cell_type": "markdown",
   "id": "1e71c61c",
   "metadata": {},
   "source": [
    "Some of the popular languages that Data Scientists use are: \n",
    "1. Python\n",
    "1. Java\n",
    "1. R\n",
    "1. Scala"
   ]
  },
  {
   "cell_type": "markdown",
   "id": "5280b1e1",
   "metadata": {},
   "source": [
    "**Objectives:**\n",
    "\n",
    "- List popular languages for Data Science\n",
    "- Introduce commonly used libraries in Data Science\n",
    "- Demonstrate arithmetic operations in Python\n",
    "- Convert time units such as minutes to hours\n",
    "- Explore Data Science tools and environments"
   ]
  },
  {
   "cell_type": "markdown",
   "id": "2a5a13b0",
   "metadata": {},
   "source": [
    "Some of the commonly used libraries used by Data Scientists include:\n",
    "1. Numpy\n",
    "1. Pandas\n",
    "1. Matplotlib\n",
    "1. Keras\n",
    "1. Tensorflow"
   ]
  },
  {
   "cell_type": "markdown",
   "id": "651c71dc",
   "metadata": {},
   "source": [
    "| Data Science Tools        |\n",
    "|:--------------------------|\n",
    "| Jupyter Notebook          |\n",
    "| RStudio                   |\n",
    "| Apache Zeppelin           |\n"
   ]
  },
  {
   "cell_type": "markdown",
   "id": "ef1aacc3",
   "metadata": {},
   "source": [
    "### Below are a few examples of evaluating arithmetic expressions in Python."
   ]
  },
  {
   "cell_type": "code",
   "execution_count": 1,
   "id": "007f4ba9",
   "metadata": {},
   "outputs": [
    {
     "data": {
      "text/plain": [
       "17"
      ]
     },
     "execution_count": 1,
     "metadata": {},
     "output_type": "execute_result"
    }
   ],
   "source": [
    "# This is a simple arithmetic expression to multiply then add integers\n",
    "result = (3 * 4) + 5\n",
    "result"
   ]
  },
  {
   "cell_type": "code",
   "execution_count": 2,
   "id": "34c6e338",
   "metadata": {},
   "outputs": [
    {
     "data": {
      "text/plain": [
       "3.3333333333333335"
      ]
     },
     "execution_count": 2,
     "metadata": {},
     "output_type": "execute_result"
    }
   ],
   "source": [
    "# This will convert 200 minutes to hours by dividing by 60\n",
    "hours = 200 / 60\n",
    "hours"
   ]
  },
  {
   "cell_type": "markdown",
   "id": "2577b8f4",
   "metadata": {},
   "source": [
    "## Author\n",
    "\n",
    "Anurag Swain"
   ]
  },
  {
   "cell_type": "markdown",
   "id": "c3f13e03",
   "metadata": {},
   "source": []
  },
  {
   "cell_type": "markdown",
   "id": "623e9b2b",
   "metadata": {},
   "source": []
  },
  {
   "cell_type": "markdown",
   "id": "9ada0f7e",
   "metadata": {},
   "source": []
  }
 ],
 "metadata": {
  "kernelspec": {
   "display_name": "Python 3 (ipykernel)",
   "language": "python",
   "name": "python3"
  },
  "language_info": {
   "codemirror_mode": {
    "name": "ipython",
    "version": 3
   },
   "file_extension": ".py",
   "mimetype": "text/x-python",
   "name": "python",
   "nbconvert_exporter": "python",
   "pygments_lexer": "ipython3",
   "version": "3.11.5"
  }
 },
 "nbformat": 4,
 "nbformat_minor": 5
}
